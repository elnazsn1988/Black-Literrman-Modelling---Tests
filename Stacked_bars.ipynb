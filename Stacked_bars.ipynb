{
  "nbformat": 4,
  "nbformat_minor": 0,
  "metadata": {
    "colab": {
      "name": "Untitled5.ipynb",
      "version": "0.3.2",
      "provenance": [],
      "include_colab_link": true
    },
    "kernelspec": {
      "name": "python3",
      "display_name": "Python 3"
    }
  },
  "cells": [
    {
      "cell_type": "markdown",
      "metadata": {
        "id": "view-in-github",
        "colab_type": "text"
      },
      "source": [
        "<a href=\"https://colab.research.google.com/github/elnazsn1988/Black-Literrman-Modelling---Tests/blob/master/Stacked_bars.ipynb\" target=\"_parent\"><img src=\"https://colab.research.google.com/assets/colab-badge.svg\" alt=\"Open In Colab\"/></a>"
      ]
    },
    {
      "cell_type": "code",
      "metadata": {
        "id": "fLZg6PUV5iwj",
        "colab_type": "code",
        "colab": {}
      },
      "source": [
        "import numpy as np\n",
        "import matplotlib.pyplot as plt\n",
        "\n",
        "def stacked_bar(data, series_labels, category_labels=None, \n",
        "                show_values=False, value_format=\"{}\", y_label=None, \n",
        "                grid=True, reverse=False):\n",
        "    \"\"\"Plots a stacked bar chart with the data and labels provided.\n",
        "\n",
        "    Keyword arguments:\n",
        "    data            -- 2-dimensional numpy array or nested list\n",
        "                       containing data for each series in rows\n",
        "    series_labels   -- list of series labels (these appear in\n",
        "                       the legend)\n",
        "    category_labels -- list of category labels (these appear\n",
        "                       on the x-axis)\n",
        "    show_values     -- If True then numeric value labels will \n",
        "                       be shown on each bar\n",
        "    value_format    -- Format string for numeric value labels\n",
        "                       (default is \"{}\")\n",
        "    y_label         -- Label for y-axis (str)\n",
        "    grid            -- If True display grid\n",
        "    reverse         -- If True reverse the order that the\n",
        "                       series are displayed (left-to-right\n",
        "                       or right-to-left)\n",
        "    \"\"\"\n",
        "\n",
        "    ny = len(data[0])\n",
        "    ind = list(range(ny))\n",
        "\n",
        "    axes = []\n",
        "    cum_size = np.zeros(ny)\n",
        "\n",
        "    data = np.array(data)\n",
        "\n",
        "    if reverse:\n",
        "        data = np.flip(data, axis=1)\n",
        "        category_labels = reversed(category_labels)\n",
        "\n",
        "    for i, row_data in enumerate(data):\n",
        "        axes.append(plt.bar(ind, row_data, bottom=cum_size, \n",
        "                            label=series_labels[i]))\n",
        "        cum_size += row_data\n",
        "\n",
        "    if category_labels:\n",
        "        plt.xticks(ind, category_labels)\n",
        "\n",
        "    if y_label:\n",
        "        plt.ylabel(y_label)\n",
        "\n",
        "    plt.legend()\n",
        "\n",
        "    if grid:\n",
        "        plt.grid()\n",
        "\n",
        "    if show_values:\n",
        "        for axis in axes:\n",
        "            for bar in axis:\n",
        "                w, h = bar.get_width(), bar.get_height()\n",
        "                plt.text(bar.get_x() + w/2, bar.get_y() + h/2, \n",
        "                         value_format.format(h), ha=\"center\", \n",
        "                         va=\"center\")"
      ],
      "execution_count": 0,
      "outputs": []
    }
  ]
}